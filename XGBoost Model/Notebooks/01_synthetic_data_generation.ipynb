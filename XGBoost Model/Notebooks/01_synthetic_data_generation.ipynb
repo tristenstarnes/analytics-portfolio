{
 "cells": [
  {
   "cell_type": "markdown",
   "id": "7dd7a5d7",
   "metadata": {},
   "source": []
  },
  {
   "cell_type": "code",
   "execution_count": 5,
   "id": "3036b0ae",
   "metadata": {},
   "outputs": [],
   "source": [
    "import pandas as pd\n",
    "import numpy as np"
   ]
  },
  {
   "cell_type": "code",
   "execution_count": 6,
   "id": "182e5675",
   "metadata": {},
   "outputs": [],
   "source": [
    "np.random.seed(42)\n",
    "n = 5000"
   ]
  },
  {
   "cell_type": "markdown",
   "id": "f38828a1",
   "metadata": {},
   "source": [
    "# Demographic Attributes"
   ]
  },
  {
   "cell_type": "code",
   "execution_count": 7,
   "id": "4acbeef2",
   "metadata": {},
   "outputs": [],
   "source": [
    "age = np.random.randint(18, 75, size=n)\n",
    "household_income = np.random.randint(25000, 250000, size=n)\n",
    "household_size = np.random.randint(1, 7, size=n)"
   ]
  },
  {
   "cell_type": "markdown",
   "id": "aad68671",
   "metadata": {},
   "source": [
    "# Behavioral Attributes"
   ]
  },
  {
   "cell_type": "code",
   "execution_count": 8,
   "id": "af836aee",
   "metadata": {},
   "outputs": [],
   "source": [
    "tenure_months = np.random.randint(1, 61, size=n)\n",
    "monthly_charges = np.random.uniform(10, 150, size=n).round(2)\n",
    "total_spent = (tenure_months * monthly_charges).round(2)\n",
    "num_logins = np.random.randint(0, 101, size=n)\n",
    "num_support_tickets = np.random.randint(0, 11, size=n)\n",
    "auto_pay = np.random.choice([0, 1], size=n, p=[0.4, 0.6])\n",
    "plan_type = np.random.choice(['Basic', 'Premium', 'Enterprise'], size=n, p=[0.6, 0.3, 0.1])\n",
    "contract_type = np.random.choice(['Monthly', 'Annual'], size=n, p=[0.7, 0.3])"
   ]
  },
  {
   "cell_type": "markdown",
   "id": "8feb1db5",
   "metadata": {},
   "source": [
    "# Churn - the target variable"
   ]
  },
  {
   "cell_type": "code",
   "execution_count": 9,
   "id": "70876e66",
   "metadata": {},
   "outputs": [],
   "source": [
    "base_churn_prob = 0.25\n",
    "\n",
    "churn_prob = (\n",
    "    base_churn_prob\n",
    "    - 0.0005 * tenure_months\n",
    "    - 0.000002 * household_income\n",
    "    + 0.01 * (num_support_tickets > 5).astype(int)\n",
    "    + 0.02 * (plan_type == 'Basic').astype(int)\n",
    "    + 0.015 * (contract_type == 'Monthly').astype(int)\n",
    ")\n",
    "\n",
    "churn_prob = np.clip(churn_prob, 0.05, 0.7)\n",
    "\n",
    "churn = np.random.binomial(1, churn_prob)"
   ]
  },
  {
   "cell_type": "markdown",
   "id": "3f71b40b",
   "metadata": {},
   "source": [
    "# Dataframe"
   ]
  },
  {
   "cell_type": "code",
   "execution_count": 10,
   "id": "5cb79781",
   "metadata": {},
   "outputs": [],
   "source": [
    "data = pd.DataFrame({\n",
    "    'age': age,\n",
    "    'household_income': household_income,\n",
    "    'household_size': household_size,\n",
    "    'tenure_months': tenure_months,\n",
    "    'monthly_charges': monthly_charges,\n",
    "    'total_spent': total_spent,\n",
    "    'num_logins': num_logins,\n",
    "    'num_support_tickets': num_support_tickets,\n",
    "    'auto_pay': auto_pay,\n",
    "    'plan_type': plan_type,\n",
    "    'contract_type': contract_type,\n",
    "    'churn': churn\n",
    "})"
   ]
  },
  {
   "cell_type": "markdown",
   "id": "79d20640",
   "metadata": {},
   "source": [
    "# View Data"
   ]
  },
  {
   "cell_type": "code",
   "execution_count": 16,
   "id": "7140ce55",
   "metadata": {},
   "outputs": [
    {
     "name": "stdout",
     "output_type": "stream",
     "text": [
      "   age  household_income  household_size  tenure_months  monthly_charges  \\\n",
      "0   56            102960               1             24            67.47   \n",
      "1   69            109388               4              7            36.95   \n",
      "2   46             47601               3             34           114.32   \n",
      "3   32            174092               1             48            27.79   \n",
      "4   60            164227               6             12            24.54   \n",
      "\n",
      "   total_spent  num_logins  num_support_tickets  auto_pay plan_type  \\\n",
      "0      1619.28           4                   10         1     Basic   \n",
      "1       258.65          53                    3         0     Basic   \n",
      "2      3886.88          37                    1         1   Premium   \n",
      "3      1333.92          61                    4         0     Basic   \n",
      "4       294.48          24                    8         1     Basic   \n",
      "\n",
      "  contract_type  churn  \n",
      "0       Monthly      0  \n",
      "1       Monthly      0  \n",
      "2       Monthly      0  \n",
      "3       Monthly      1  \n",
      "4        Annual      0  \n",
      "\n",
      "Class distribution:\n",
      "churn\n",
      "0    0.9134\n",
      "1    0.0866\n",
      "Name: proportion, dtype: float64\n",
      "\n",
      "Saved to synthetic_churn_data.csv\n"
     ]
    }
   ],
   "source": [
    "print(data.head())\n",
    "print(\"\\nClass distribution:\")\n",
    "print(data['churn'].value_counts(normalize=True))\n",
    "\n",
    "data.to_csv(\"../Data/synthetic_churn_data.csv\", index=False)\n",
    "print(\"\\nSaved to synthetic_churn_data.csv\")"
   ]
  }
 ],
 "metadata": {
  "kernelspec": {
   "display_name": "Python 3",
   "language": "python",
   "name": "python3"
  },
  "language_info": {
   "codemirror_mode": {
    "name": "ipython",
    "version": 3
   },
   "file_extension": ".py",
   "mimetype": "text/x-python",
   "name": "python",
   "nbconvert_exporter": "python",
   "pygments_lexer": "ipython3",
   "version": "3.11.0"
  }
 },
 "nbformat": 4,
 "nbformat_minor": 5
}
